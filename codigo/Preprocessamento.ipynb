{
 "cells": [
  {
   "cell_type": "markdown",
   "id": "a337244a-defa-4193-a51d-64b0753c3a6e",
   "metadata": {},
   "source": [
    "**Inicialização**"
   ]
  },
  {
   "cell_type": "code",
   "execution_count": null,
   "id": "9476bfc0-f14e-42a4-82ca-d89be35a942f",
   "metadata": {},
   "outputs": [],
   "source": [
    "# Importa as bibliotecas\n",
    "import pandas as pd\n",
    "import numpy as np\n",
    "import matplotlib.pyplot as plt \n",
    "from category_encoders.target_encoder import TargetEncoder\n",
    "from sklearn.model_selection import train_test_split"
   ]
  },
  {
   "cell_type": "code",
   "execution_count": null,
   "id": "7e7b15aa-d0d2-47a5-8d44-9854137ee7da",
   "metadata": {},
   "outputs": [],
   "source": [
    "# removendo máximo numero de colunas e linhas em display\n",
    "pd.set_option('display.max_columns', None)\n",
    "pd.set_option('display.max_rows', None)"
   ]
  },
  {
   "cell_type": "code",
   "execution_count": null,
   "id": "b3564526-caa6-408c-9e9d-f690a586d7a5",
   "metadata": {},
   "outputs": [],
   "source": [
    "# importa os dados, em portugues\n",
    "casas_em_ames = pd.read_csv(\"../outputs/Casas em Ames.csv\")\n",
    "casas_em_ames.head()"
   ]
  },
  {
   "cell_type": "markdown",
   "id": "b246e68a-2b5f-438c-9002-a7ebd0a400c4",
   "metadata": {},
   "source": [
    "**Tratamento de data faltantes**"
   ]
  },
  {
   "cell_type": "code",
   "execution_count": null,
   "id": "bf2164b3-84ec-4109-a7bc-7747bb1ae4a2",
   "metadata": {},
   "outputs": [],
   "source": [
    "# removendo variaveis não descritivas Índice e Identificação da Propriedade\n",
    "casas_em_ames = casas_em_ames.iloc[:,2:]\n",
    "print(\"Formato do dataset: \",casas_em_ames.shape)\n",
    "casas_em_ames.head()\n",
    "\n",
    "# calcula a porcentagem de data faltantes do dataset\n",
    "[n, m] = casas_em_ames.shape\n",
    "dataset_NaN_percent = casas_em_ames.isna().sum().sum()/(n*m)\n",
    "print(\"Percentual de data faltantes no dataset inteiro: \", 100*dataset_NaN_percent)\n",
    "\n",
    "# calcula a percentagem de data faltantes dos atributos e filtra para as mais impuras que o dataset\n",
    "NaN_percent_per_column = casas_em_ames.isna().sum()/n\n",
    "NaN_percent_per_column = NaN_percent_per_column[NaN_percent_per_column > 0.0].sort_values(ascending=False)\n",
    "print(\"\\nPercentual de data faltantes por atributo: \")\n",
    "print(100*NaN_percent_per_column)"
   ]
  },
  {
   "cell_type": "code",
   "execution_count": null,
   "id": "33148d62-db6d-4b7f-bc58-419f75983a5d",
   "metadata": {},
   "outputs": [],
   "source": [
    "# Esse dataset possui muitos data faltantes, contudo, os data não estão faltando aleatoriamento e podem ser atribuido significado. Como por exemplo\n",
    "# os atributos a seguir, que são categoricos e podem ser interpretados como \"Nenhum\", \n",
    "# esses data tem tendencia de ocorrer juntos, onde em instancais onde um dado sobre a garagem está faltando, todos os data de garagem estão faltando \n",
    "\n",
    "casas_em_ames['Beco'] = casas_em_ames['Beco'].fillna('Nenhum')\n",
    "casas_em_ames['Tipo de Revestimento de Alvenaria'] = casas_em_ames['Tipo de Revestimento de Alvenaria'].fillna('Nenhum')\n",
    "casas_em_ames['Qualidade do Porão'] = casas_em_ames['Qualidade do Porão'].fillna('Nenhum')\n",
    "casas_em_ames['Condição do Porão'] = casas_em_ames['Condição do Porão'].fillna('Nenhum')\n",
    "casas_em_ames['Exposição do Porão'] = casas_em_ames['Exposição do Porão'].fillna('Nenhum')\n",
    "casas_em_ames['Tipo de Acabamento do Porão 1'] = casas_em_ames['Tipo de Acabamento do Porão 1'].fillna('Nenhum')\n",
    "casas_em_ames['Tipo de Acabamento do Porão 2'] = casas_em_ames['Tipo de Acabamento do Porão 2'].fillna('Nenhum')\n",
    "casas_em_ames['Elétrica'] = casas_em_ames['Elétrica'].fillna('Nenhum')\n",
    "casas_em_ames['Tipo de Garagem'] = casas_em_ames['Tipo de Garagem'].fillna('Nenhum')\n",
    "casas_em_ames['Acabamento da Garagem'] = casas_em_ames['Acabamento da Garagem'].fillna('Nenhum')\n",
    "casas_em_ames['Qualidade da Garagem'] = casas_em_ames['Qualidade da Garagem'].fillna('Nenhum')\n",
    "casas_em_ames['Condição da Garagem'] = casas_em_ames['Condição da Garagem'].fillna('Nenhum')\n",
    "casas_em_ames['Qualidade da Piscina'] = casas_em_ames['Qualidade da Piscina'].fillna('Nenhum')\n",
    "casas_em_ames['Qualidade da Lareira'] = casas_em_ames['Qualidade da Lareira'].fillna('Nenhum')\n",
    "casas_em_ames['Cerca'] = casas_em_ames['Cerca'].fillna('Nenhum')\n",
    "casas_em_ames['Características Diversas'] = casas_em_ames['Características Diversas'].fillna('Nenhum')\n",
    "\n",
    "# Já os data numerico a seguir podem ser interpretados como \"0\", e geralmente occorem juntos a um dado categorico \"Nenhum\" \n",
    "# como por exemplo em uma casa que não há porão, a area do porão pdoe ser interpretada como 0\n",
    "\n",
    "casas_em_ames['Frente do Lote'] = casas_em_ames['Frente do Lote'].fillna(0)\n",
    "casas_em_ames['Área de Revestimento de Alvenaria'] = casas_em_ames['Área de Revestimento de Alvenaria'].fillna(0)\n",
    "casas_em_ames['Área de Acabamento do Porão 1'] = casas_em_ames['Área de Acabamento do Porão 1'].fillna(0)\n",
    "casas_em_ames['Área de Acabamento do Porão 2'] = casas_em_ames['Área de Acabamento do Porão 2'].fillna(0)\n",
    "casas_em_ames['Área Não Acabada do Porão'] = casas_em_ames['Área Não Acabada do Porão'].fillna(0)\n",
    "casas_em_ames['Área Total do Porão'] = casas_em_ames['Área Total do Porão'].fillna(0)\n",
    "casas_em_ames['Banheiros Completos no Porão'] = casas_em_ames['Banheiros Completos no Porão'].fillna(0)\n",
    "casas_em_ames['Banheiros Meio no Porão'] = casas_em_ames['Banheiros Meio no Porão'].fillna(0)\n",
    "casas_em_ames['Carros na Garagem'] = casas_em_ames['Carros na Garagem'].fillna(0)\n",
    "casas_em_ames['Área da Garagem'] = casas_em_ames['Área da Garagem'].fillna(0)\n",
    "\n",
    "\n",
    "# A unica excessão é o ano de contrução da garagem, um dado numerico, mas que melhor seria servido sendo interpretado como não há\n",
    "# a solução para esse dilema foi, quando não há garagem, o ano de construção da garagem será o ano de construção da casa.\n",
    "casas_em_ames['Ano de Construção da Garagem'] = casas_em_ames['Ano de Construção da Garagem'].fillna(casas_em_ames[\"Ano de Construção\"])\n",
    "\n",
    "casas_em_ames.head()"
   ]
  },
  {
   "cell_type": "markdown",
   "id": "c85b80ff-0ed7-489e-a222-ebb794028ad6",
   "metadata": {},
   "source": [
    "**Target Encoding**"
   ]
  },
  {
   "cell_type": "markdown",
   "id": "fe92cf37-f9a6-4dfd-ace3-bd916a66ccc0",
   "metadata": {},
   "source": [
    "É uma técnica de pré-processamento em que categorias de uma variável categórica são substituídas pela média do target (variável dependente) associada a cada categoria."
   ]
  },
  {
   "cell_type": "code",
   "execution_count": null,
   "id": "8f6e3f07-26d2-4adb-a413-da1513b4816c",
   "metadata": {},
   "outputs": [],
   "source": [
    "# aplicando o target Encoder de uma biblioteca já pronta.\n",
    "target_encoder = TargetEncoder()\n",
    "X_uncoded = casas_em_ames.iloc[:,0:-1]\n",
    "y = casas_em_ames.iloc[:,-1]\n",
    "X = target_encoder.fit_transform(X_uncoded, y)\n",
    "X.head()"
   ]
  },
  {
   "cell_type": "markdown",
   "id": "7a07f8e1-9fe5-4056-8c0e-7f7d93b02205",
   "metadata": {},
   "source": [
    "**Padronização dos dados**"
   ]
  },
  {
   "cell_type": "code",
   "execution_count": null,
   "id": "b4f25729-f288-4c13-9173-fcd343965a14",
   "metadata": {},
   "outputs": [],
   "source": [
    "# Padronização Z-score\n",
    "for col in X.columns:\n",
    "    X[col] = (X[col] - X[col].mean()) / X[col].std()\n",
    "X.head()"
   ]
  },
  {
   "cell_type": "markdown",
   "id": "6d0b1664-2a99-401e-a66d-7385eda708db",
   "metadata": {},
   "source": [
    "**Remoção de outliers**"
   ]
  },
  {
   "cell_type": "code",
   "execution_count": null,
   "id": "947f1f3f-e821-4fe5-9577-f2d75aec2ff8",
   "metadata": {
    "scrolled": true
   },
   "outputs": [],
   "source": [
    "# Faz um grande histograma com baldes de tamanho 1, contendo a frequencia relativa de cada atributo\n",
    "# Esse histograma ira fornecer informações sobre como estão distribuidos os dados\n",
    "\n",
    "cols = 7\n",
    "rows = np.ceil(len(X.columns) / cols).astype(int)\n",
    "\n",
    "fig, axs = plt.subplots(rows, cols, figsize=(82.7, 116.9))\n",
    "axs = axs.flatten()\n",
    "\n",
    "for i, col in enumerate(X.columns):\n",
    "    x = range(int(X[col].min()-1), int(X[col].max()) + 2)\n",
    "    axs[i].set_yscale('log')\n",
    "    axs[i].hist(X[col], bins=x, edgecolor='black')\n",
    "    axs[i].set_xlabel(col, fontsize=50)\n",
    "    axs[i].set_ylabel('Frequência', fontsize=30)\n",
    "    axs[i].set_xticks(x)\n",
    "    axs[i].tick_params(axis='both', which='major', labelsize=25)\n",
    "    axs[i].grid(True)\n",
    "\n",
    "plt.subplots_adjust(left=0.02, right=0.98, top=0.98, bottom=0.02, wspace=0.2, hspace=0.3)\n",
    "\n",
    "plt.savefig(f'../outputs/histograma.svg')\n",
    "plt.show()"
   ]
  },
  {
   "cell_type": "code",
   "execution_count": null,
   "id": "99c28010-9f2e-45dd-b6e5-cafde7083e39",
   "metadata": {},
   "outputs": [],
   "source": [
    "# Faz a limpeza dos outliers, removendo do dataset todos as amostras que tem valores maiores do que 7 em alguma atributo\n",
    "# também limpa as colunas que perderam toda a diversidade\n",
    "\n",
    "threshold = 7\n",
    "not_outliers = ~(np.abs(X) > threshold).any(axis = 1)\n",
    "X_clean = X[not_outliers]\n",
    "y_clean = y[not_outliers]\n",
    "X_clean = X_clean.loc[:, X_clean.nunique() > 1]\n",
    "print(f\"{len(X)-len(X_clean)} outliers removidos: {X[~not_outliers].index.values}\")\n",
    "print(f\"{len(X.columns)-len(X_clean.columns)} atributos removidos: {set(X.columns)-set(X_clean.columns)}\")"
   ]
  },
  {
   "cell_type": "markdown",
   "id": "1e39959f-2008-440a-ae22-adda6a68608d",
   "metadata": {},
   "source": [
    "**Seleção de Atributos**"
   ]
  },
  {
   "cell_type": "markdown",
   "id": "b36442d1-0b05-425b-a5bc-bc7ef569d666",
   "metadata": {},
   "source": [
    "O metodo de seleçao de atributos escolhido foi o seleção baseada em correlação, onde o dataset é ordenado de acordo com qual atributo tem maior correlação com o alvo, e apenas os N valores mais significates serão selecionados para dado treinamento."
   ]
  },
  {
   "cell_type": "code",
   "execution_count": null,
   "id": "e1076b72-bc41-4b00-b847-ff9310e5f271",
   "metadata": {
    "scrolled": true
   },
   "outputs": [],
   "source": [
    "clean_data = pd.concat([X_clean, y_clean], axis = 1)\n",
    "corr_matrix = clean_data.corr(method = \"pearson\")\n",
    "corr_target = corr_matrix['Preço de Venda'].abs().sort_values(ascending=False)\n",
    "\n",
    "print(\"Correlação das variaveis selecionadas com o alvo: \")\n",
    "print(pd.Series(corr_target, corr_target.index))"
   ]
  },
  {
   "cell_type": "markdown",
   "id": "4412de7a-5a85-45b4-9ba9-9c9bf1bd19d8",
   "metadata": {},
   "source": [
    "**Separação dos dados de treino e teste**"
   ]
  },
  {
   "cell_type": "code",
   "execution_count": null,
   "id": "d2e3cfc0-c96f-48a7-ad25-7db6b880a1b4",
   "metadata": {},
   "outputs": [],
   "source": [
    "# reorganiza os dados, com o target sendo o primeiro atributo, seguido dos outros atributos em ordem de qual correlacionado \n",
    "# ele está com o target, em seguida as linhas são ordenadas na ordem de maior preço para menor preço\n",
    "sorted_data = clean_data[corr_target.index].sort_values('Preço de Venda', ignore_index = True)\n",
    "sorted_data.head()"
   ]
  },
  {
   "cell_type": "code",
   "execution_count": null,
   "id": "f8687df6-b519-40e0-ae62-0a0d68ad9c43",
   "metadata": {},
   "outputs": [],
   "source": [
    "# realizando separação de treino e teste, na proporção 80%/20%, com dados sendo embralhados\n",
    "X_sorted = sorted_data.iloc[:,1:]\n",
    "y_sorted = sorted_data.iloc[:,0]\n",
    "X_train, X_test, y_train, y_test = train_test_split(X_sorted, y_sorted, test_size=0.20, random_state=1, shuffle = True)"
   ]
  },
  {
   "cell_type": "code",
   "execution_count": null,
   "id": "133388aa-b2c6-43c2-936d-12a86d1a2555",
   "metadata": {},
   "outputs": [],
   "source": [
    "# salvando dados de treino\n",
    "X_train.to_csv('../outputs/X_train.csv', index = False)\n",
    "X_train.head()"
   ]
  },
  {
   "cell_type": "code",
   "execution_count": null,
   "id": "1b973016-8e64-4672-9be6-c5a5eeb48a56",
   "metadata": {},
   "outputs": [],
   "source": [
    "# salvando dados de teste\n",
    "X_test.to_csv('../outputs/X_test.csv', index = False)\n",
    "X_test.head()"
   ]
  },
  {
   "cell_type": "code",
   "execution_count": null,
   "id": "cc676a72-0886-4c83-8d5b-3f396918728e",
   "metadata": {},
   "outputs": [],
   "source": [
    "# salvando alvos de treino\n",
    "y_train.to_csv('../outputs/y_train.csv', index = False)\n",
    "y_train.head()"
   ]
  },
  {
   "cell_type": "code",
   "execution_count": null,
   "id": "3a14609e-3a64-4d2b-9e27-35db0942519b",
   "metadata": {},
   "outputs": [],
   "source": [
    "# salvando alvos de teste\n",
    "y_test.to_csv('../outputs/y_test.csv', index = False)\n",
    "y_test.head()"
   ]
  },
  {
   "cell_type": "code",
   "execution_count": null,
   "id": "f1b874a7-b69e-4153-ad3f-d1a6d7074d87",
   "metadata": {},
   "outputs": [],
   "source": []
  }
 ],
 "metadata": {
  "kernelspec": {
   "display_name": "Python 3 (ipykernel)",
   "language": "python",
   "name": "python3"
  },
  "language_info": {
   "codemirror_mode": {
    "name": "ipython",
    "version": 3
   },
   "file_extension": ".py",
   "mimetype": "text/x-python",
   "name": "python",
   "nbconvert_exporter": "python",
   "pygments_lexer": "ipython3",
   "version": "3.9.19"
  }
 },
 "nbformat": 4,
 "nbformat_minor": 5
}
